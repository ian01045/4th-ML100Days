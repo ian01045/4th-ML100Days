{
 "cells": [
  {
   "cell_type": "code",
   "execution_count": 1,
   "metadata": {},
   "outputs": [
    {
     "ename": "SyntaxError",
     "evalue": "invalid character in identifier (<ipython-input-1-afd17cd79aef>, line 45)",
     "output_type": "error",
     "traceback": [
      "\u001b[1;36m  File \u001b[1;32m\"<ipython-input-1-afd17cd79aef>\"\u001b[1;36m, line \u001b[1;32m45\u001b[0m\n\u001b[1;33m    1.可以練習資料科學、房價預估\u001b[0m\n\u001b[1;37m                  ^\u001b[0m\n\u001b[1;31mSyntaxError\u001b[0m\u001b[1;31m:\u001b[0m invalid character in identifier\n"
     ]
    }
   ],
   "source": [
    "import numpy as np\n",
    "import matplotlib.pyplot as plt\n",
    "import math\n",
    "\n",
    "\n",
    "w = 3\n",
    "b = 0.5\n",
    "\n",
    "x_lin = np.linspace(0, 100, 101)\n",
    "\n",
    "y = (x_lin + np.random.randn(101) * 5) * w + b\n",
    "\n",
    "\n",
    "plt.plot(x_lin, y, 'b.', label = 'data points')\n",
    "plt.title(\"This Graph Title\")\n",
    "plt.legend(loc = 'lower right')\n",
    "plt.show()\n",
    "\n",
    "\n",
    "y_hat= x_lin * w + b\n",
    "plt.plot(x_lin,y,'b.',label='data')\n",
    "plt.plot(x_lin,y_hat,'r-',label='prediction')\n",
    "plt.title(\"Assume we have data points(And the prediction)\")\n",
    "plt.legend(loc='upper left')\n",
    "plt.show()\n",
    "\n",
    "\n",
    "def mean_absolute_error(y,yp):\n",
    "    mae = MAE = sum(abs(y - yp)) / len(y)\n",
    "    return mae\n",
    " \n",
    "MAE = mean_absolute_error(y, y_hat)\n",
    "print(\"The Mean absolute error is %.3f\" % (MAE))\n",
    "\n",
    "\n",
    "# ---------作業1：均方差----------\n",
    "def mean_square_error(y,yp):\n",
    "    mse = MSE = math.sqrt(sum((y-yp)**2)/len(y))\n",
    "    return mse\n",
    "\n",
    "MSE = mean_square_error(y,y_hat)\n",
    "print(\"The Mean Square Error is %.3f\" %(MSE))\n",
    "\n",
    "# --------作業2------------------\n",
    "1.可以練習資料科學、房價預估\n",
    "2. Dean De Cock，資料為2006-2010  Ames, Iowa 美國地政相關單位的真實房價資料\n",
    "3.Id,SalePrice\n",
    "    1461,169000.1\n",
    "    1462,187724.1233\n",
    "    1463,175221\n",
    "    etc.\n",
    "4.??\n",
    "\n",
    "#---------作業3-----------------\n",
    "1.\n",
    "    1.a 核心問題:如何提升業績\n",
    "    1.b 假設:時間、節慶、天氣、地區分布會影響載客率與每趟單價，要配合前述因子調整派車，提升載客率\n",
    "\n",
    "2. 從計程車行系統或Uber收集叫車資訊\n",
    "3.叫車時間、叫車當天的節日、叫車的天氣、叫車所在地區、每趟單價\n",
    "4.透過公式計算確認那些條件下有最多的叫車紀錄與每趟單價，找到哪樣的組合下，客戶叫車意願最高或每趟單價最高"
   ]
  }
 ],
 "metadata": {
  "kernelspec": {
   "display_name": "Python 3",
   "language": "python",
   "name": "python3"
  },
  "language_info": {
   "codemirror_mode": {
    "name": "ipython",
    "version": 3
   },
   "file_extension": ".py",
   "mimetype": "text/x-python",
   "name": "python",
   "nbconvert_exporter": "python",
   "pygments_lexer": "ipython3",
   "version": "3.7.6"
  }
 },
 "nbformat": 4,
 "nbformat_minor": 4
}
