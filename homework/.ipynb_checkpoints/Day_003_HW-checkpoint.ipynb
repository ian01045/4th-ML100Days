{
 "cells": [
  {
   "cell_type": "code",
   "execution_count": null,
   "metadata": {},
   "outputs": [],
   "source": [
    "Q1.專案的目標？ (要解決什麼問題）\n",
    "Q2.使用的技術是？ (只需知道名稱即可，例如：使用 CNN 卷積神經網路做影像分類)\n",
    "Q3.資料來源？\n",
    "\n",
    "A1. Ultra-High Resolution Image Analysis with Mesh-TensorFlow\n",
    "用來幫助分散式處理分析極高畫質的影像分析，例如電腦斷層掃描\n",
    "\n",
    "A2. CNN，使用 halo exchange一種新的演算法，將影像進行分割由不同的實體裝置進行平行運算，\n",
    "halo exchange技術確保分割的影像邊緣不會失去識別能力。\n",
    "\n",
    "A3. Mayo Clinic.，應該是跟某中心合作取得3D電腦斷層掃描的資料"
   ]
  }
 ],
 "metadata": {
  "kernelspec": {
   "display_name": "Python 3",
   "language": "python",
   "name": "python3"
  },
  "language_info": {
   "codemirror_mode": {
    "name": "ipython",
    "version": 3
   },
   "file_extension": ".py",
   "mimetype": "text/x-python",
   "name": "python",
   "nbconvert_exporter": "python",
   "pygments_lexer": "ipython3",
   "version": "3.7.6"
  }
 },
 "nbformat": 4,
 "nbformat_minor": 4
}
