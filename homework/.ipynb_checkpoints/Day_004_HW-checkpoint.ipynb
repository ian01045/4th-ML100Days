{
 "cells": [
  {
   "cell_type": "code",
   "execution_count": null,
   "metadata": {},
   "outputs": [],
   "source": [
    "import os\n",
    "import numpy as np\n",
    "import pandas as pd\n",
    "\n",
    "# 設定 data_path\n",
    "dir_data = './data/'\n",
    "\n",
    "f_app = os.path.join(dir_data, 'train.csv')\n",
    "print('Path of read in data: %s' % (f_app))\n",
    "app_train = pd.read_csv(f_app)\n",
    "\n",
    "# ?pd.read_csv\n",
    "\n",
    "# 看前n行\n",
    "# app_train.head()\n",
    "\n",
    "# 看後n行\n",
    "# app_train.tail()\n",
    "\n",
    "# 看各類統計資訊\n",
    "app_train.info()\n",
    "\n",
    "# 看總共有多少個cells=> row*column\n",
    "# app_train.size\n",
    "\n",
    "# ??找該欄位最大值所在索引\n",
    "# app_train['SalePrice'].idxmax()"
   ]
  }
 ],
 "metadata": {
  "kernelspec": {
   "display_name": "Python 3",
   "language": "python",
   "name": "python3"
  },
  "language_info": {
   "codemirror_mode": {
    "name": "ipython",
    "version": 3
   },
   "file_extension": ".py",
   "mimetype": "text/x-python",
   "name": "python",
   "nbconvert_exporter": "python",
   "pygments_lexer": "ipython3",
   "version": "3.7.6"
  }
 },
 "nbformat": 4,
 "nbformat_minor": 4
}
