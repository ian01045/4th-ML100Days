import numpy as np
import matplotlib.pyplot as plt
import math


w = 3
b = 0.5

x_lin = np.linspace(0, 100, 101)

y = (x_lin + np.random.randn(101) * 5) * w + b


plt.plot(x_lin, y, 'b.', label = 'data points')
plt.title("This Graph Title")
plt.legend(loc = 'lower right')
plt.show()


y_hat= x_lin * w + b
plt.plot(x_lin,y,'b.',label='data')
plt.plot(x_lin,y_hat,'r-',label='prediction')
plt.title("Assume we have data points(And the prediction)")
plt.legend(loc='upper left')
plt.show()


def mean_absolute_error(y,yp):
    mae = MAE = sum(abs(y - yp)) / len(y)
    return mae
 
MAE = mean_absolute_error(y, y_hat)
print("The Mean absolute error is %.3f" % (MAE))


# ---------作業1：均方差----------
def mean_square_error(y,yp):
    mse = MSE = math.sqrt(sum((y-yp)**2)/len(y))
    return mse

MSE = mean_square_error(y,y_hat)
print("The Mean Square Error is %.3f" %(MSE))

# --------作業2------------------
1.可以練習資料科學、房價預估
2. Dean De Cock，資料為2006-2010  Ames, Iowa 美國地政相關單位的真實房價資料
3.Id,SalePrice
    1461,169000.1
    1462,187724.1233
    1463,175221
    etc.
4.??

#---------作業3-----------------
1.
    1.a 核心問題:如何提升業績
    1.b 假設:時間、節慶、天氣、地區分布會影響載客率與每趟單價，要配合前述因子調整派車，提升載客率

2. 從計程車行系統或Uber收集叫車資訊
3.叫車時間、叫車當天的節日、叫車的天氣、叫車所在地區、每趟單價
4.透過公式計算確認那些條件下有最多的叫車紀錄與每趟單價，找到哪樣的組合下，客戶叫車意願最高或每趟單價最高