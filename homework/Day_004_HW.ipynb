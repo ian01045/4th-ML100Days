import os
import numpy as np
import pandas as pd

# 設定 data_path
dir_data = './data/'

f_app = os.path.join(dir_data, 'train.csv')
print('Path of read in data: %s' % (f_app))
app_train = pd.read_csv(f_app)

# ?pd.read_csv

# 看前n行
# app_train.head()

# 看後n行
# app_train.tail()

# 看各類統計資訊
app_train.info()

# 看總共有多少個cells=> row*column
# app_train.size

# ??找該欄位最大值所在索引
# app_train['SalePrice'].idxmax()
